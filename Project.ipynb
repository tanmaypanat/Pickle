{
 "cells": [
  {
   "cell_type": "code",
   "execution_count": 2,
   "metadata": {},
   "outputs": [
    {
     "name": "stdout",
     "output_type": "stream",
     "text": [
      "D   3\n",
      "A   2\n",
      "N   6\n",
      "C   2\n",
      "E   3\n",
      "R   7\n"
     ]
    }
   ],
   "source": [
    "def words_to_numbers(a):\n",
    "    for m in range (0,len(a)):\n",
    "        if a[m].isalpha():\n",
    "            \n",
    "            if ord(a[m])==83 or ord(a[m])==86:\n",
    "                num=int((ord(a[m])-65)/3)+1\n",
    "            elif ord(a[m])>86:\n",
    "                num=9\n",
    "            else :\n",
    "                num=int((ord(a[m])-65)/3)+2\n",
    "            print(a[m],\" \",num) \n",
    "words_to_numbers(\"1-800-DANCER\")\n"
   ]
  },
  {
   "cell_type": "code",
   "execution_count": null,
   "metadata": {},
   "outputs": [],
   "source": []
  }
 ],
 "metadata": {
  "kernelspec": {
   "display_name": "Python 3",
   "language": "python",
   "name": "python3"
  },
  "language_info": {
   "codemirror_mode": {
    "name": "ipython",
    "version": 3
   },
   "file_extension": ".py",
   "mimetype": "text/x-python",
   "name": "python",
   "nbconvert_exporter": "python",
   "pygments_lexer": "ipython3",
   "version": "3.7.1"
  }
 },
 "nbformat": 4,
 "nbformat_minor": 2
}
