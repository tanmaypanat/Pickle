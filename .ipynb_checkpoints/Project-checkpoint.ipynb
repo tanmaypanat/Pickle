{
 "cells": [
  {
   "cell_type": "code",
   "execution_count": 13,
   "metadata": {},
   "outputs": [
    {
     "name": "stdout",
     "output_type": "stream",
     "text": [
      "P   7\n",
      "a   2\n",
      "i   4\n",
      "n   6\n",
      "t   8\n",
      "e   3\n",
      "r   7\n",
      "1-800-724-6837\n"
     ]
    }
   ],
   "source": [
    "def words_to_numbers(a):\n",
    "    out=\"\"\n",
    "    for m in range (0,len(a)):\n",
    "        if m==9:\n",
    "            out=out+'-'\n",
    "        if a[m].isalpha():\n",
    "            \n",
    "            if ord(a[m].upper())==83 or ord(a[m].upper())==86:\n",
    "                num=int((ord(a[m].upper())-65)/3)+1\n",
    "            elif ord(a[m].upper())>86:\n",
    "                num=9\n",
    "            else :\n",
    "                num=int((ord(a[m].upper())-65)/3)+2\n",
    "            out=out+str(num)\n",
    "            print(a[m],\" \",num)\n",
    "        else:\n",
    "            out=out+str(a[m])\n",
    "    print(out)\n",
    "        \n",
    "words_to_numbers(\"1-800-Painter\")\n"
   ]
  },
  {
   "cell_type": "code",
   "execution_count": 11,
   "metadata": {},
   "outputs": [
    {
     "data": {
      "text/plain": [
       "'A'"
      ]
     },
     "execution_count": 11,
     "metadata": {},
     "output_type": "execute_result"
    }
   ],
   "source": [
    "'a'.upper()"
   ]
  },
  {
   "cell_type": "code",
   "execution_count": null,
   "metadata": {},
   "outputs": [],
   "source": []
  }
 ],
 "metadata": {
  "kernelspec": {
   "display_name": "Python 3",
   "language": "python",
   "name": "python3"
  },
  "language_info": {
   "codemirror_mode": {
    "name": "ipython",
    "version": 3
   },
   "file_extension": ".py",
   "mimetype": "text/x-python",
   "name": "python",
   "nbconvert_exporter": "python",
   "pygments_lexer": "ipython3",
   "version": "3.7.1"
  }
 },
 "nbformat": 4,
 "nbformat_minor": 2
}
